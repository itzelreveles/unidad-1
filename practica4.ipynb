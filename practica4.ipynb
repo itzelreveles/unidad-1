{
  "nbformat": 4,
  "nbformat_minor": 0,
  "metadata": {
    "colab": {
      "provenance": [],
      "authorship_tag": "ABX9TyO79R+k8pamLV9C6xTDC8vF",
      "include_colab_link": true
    },
    "kernelspec": {
      "name": "python3",
      "display_name": "Python 3"
    },
    "language_info": {
      "name": "python"
    }
  },
  "cells": [
    {
      "cell_type": "markdown",
      "metadata": {
        "id": "view-in-github",
        "colab_type": "text"
      },
      "source": [
        "<a href=\"https://colab.research.google.com/github/itzelreveles/unidad-1/blob/main/practica4.ipynb\" target=\"_parent\"><img src=\"https://colab.research.google.com/assets/colab-badge.svg\" alt=\"Open In Colab\"/></a>"
      ]
    },
    {
      "cell_type": "markdown",
      "source": [
        "NumPly indexacion de matrices acceder a elemntos de una matriz. La indesacion de matrices es la misma que acceder a un elemento de una matriz haviendo referencia a su numero de compienzan en 0, lo que significa que el primer elemntoi tiene el indice 0, el 2do en 1, y el tercero en 2, etc.\n",
        "-----------------------------------------------\n",
        "EJEMPLO:\n",
        "-----------------------------------------------\n",
        "Obenga el primer elemento de la siguiente matriz..."
      ],
      "metadata": {
        "id": "SaqHdEl-PyTP"
      }
    },
    {
      "cell_type": "code",
      "source": [
        "import numpy as np\n",
        "arreglo = np.array([1,2,3,4,5])\n",
        "print(arreglo[0])"
      ],
      "metadata": {
        "colab": {
          "base_uri": "https://localhost:8080/"
        },
        "id": "NTjku9w4Qs5_",
        "outputId": "a6291159-5b8d-4d3d-f981-04509a63d98a"
      },
      "execution_count": 1,
      "outputs": [
        {
          "output_type": "stream",
          "name": "stdout",
          "text": [
            "1\n"
          ]
        }
      ]
    },
    {
      "cell_type": "markdown",
      "source": [
        "De la siguiente lista:\n",
        "----------------------------------\n",
        "1,2,3,4,5 y\n",
        "--------------\n",
        ",6,7,8,9,10"
      ],
      "metadata": {
        "id": "qhPFjDpfQ6cA"
      }
    },
    {
      "cell_type": "code",
      "source": [
        "import numpy as np\n",
        "arrreglo = np.array([6,7,8,9,10])\n",
        "print(arreglo[3])"
      ],
      "metadata": {
        "colab": {
          "base_uri": "https://localhost:8080/"
        },
        "id": "jBA-mGilRGzv",
        "outputId": "f4b1d2da-6d8b-4cdc-b607-0855be5fa9fe"
      },
      "execution_count": 2,
      "outputs": [
        {
          "output_type": "stream",
          "name": "stdout",
          "text": [
            "4\n"
          ]
        }
      ]
    },
    {
      "cell_type": "markdown",
      "source": [
        "Acceder a mtrices 2D, para acceder a elemntos para mtraiuces \"D podemos utilizar numero snteros separados por comas que representan al numero de dimension y al inidice del elemnto. Piense en mtraices \"D con una tabla de filas y columnas, donde la dimnesion representa la fila y el indice la columna.\n",
        "------------------------------------------------------------------\n",
        "EJEMPLO:\n",
        "-----------------------------------------------------------------\n",
        "Raliza la mtraices 2D con las siguientes listas:\n",
        "-------------------------------------------------------------\n",
        "1-1,2,3,4,5\n",
        "--------------------------------------------------------------------\n",
        "2-6,7,8,9,10\n",
        "------------------------------------------------------\n",
        "De la matriz 2D accede al elemnto de la primera fila 2da columna"
      ],
      "metadata": {
        "id": "RnmcBI3tRTUn"
      }
    },
    {
      "cell_type": "code",
      "source": [
        "import numpy as np\n",
        "arreglo = np.array([[11,2,3,4,5],[6,7,8,9,10]])\n",
        "print(arreglo[0,1])"
      ],
      "metadata": {
        "colab": {
          "base_uri": "https://localhost:8080/"
        },
        "id": "Ix_3pnAHSSFn",
        "outputId": "3e5ea443-6d4e-46d2-9e72-eb345541efc4"
      },
      "execution_count": 3,
      "outputs": [
        {
          "output_type": "stream",
          "name": "stdout",
          "text": [
            "2\n"
          ]
        }
      ]
    }
  ]
}