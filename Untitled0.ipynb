{
  "nbformat": 4,
  "nbformat_minor": 0,
  "metadata": {
    "colab": {
      "provenance": [],
      "authorship_tag": "ABX9TyMpnBiZ3YE/upnFCjvGhQRr",
      "include_colab_link": true
    },
    "kernelspec": {
      "name": "python3",
      "display_name": "Python 3"
    },
    "language_info": {
      "name": "python"
    }
  },
  "cells": [
    {
      "cell_type": "markdown",
      "metadata": {
        "id": "view-in-github",
        "colab_type": "text"
      },
      "source": [
        "<a href=\"https://colab.research.google.com/github/itzelreveles/unidad-1/blob/main/Untitled0.ipynb\" target=\"_parent\"><img src=\"https://colab.research.google.com/assets/colab-badge.svg\" alt=\"Open In Colab\"/></a>"
      ]
    },
    {
      "cell_type": "code",
      "execution_count": null,
      "metadata": {
        "id": "5WNrfShcq8of"
      },
      "outputs": [],
      "source": []
    },
    {
      "cell_type": "markdown",
      "source": [
        "numply es una libreria de Python. Numply se utiliza para trabajar matreices o arreglos. Numply es la abrebiatura de \"pyhton numerico\"tambien tiene funciones para trabajar en el dominio del algebra lineal, la transformacion y las matrices. En python tenemos listas que sirvencomo matrices, pero son lentas de procesar: numply tiene objetivo proporcionar un objetivo de matriz que sea 50 veces mas rapido"
      ],
      "metadata": {
        "id": "L7ExMGu_rF9J"
      }
    },
    {
      "cell_type": "code",
      "source": [
        "#tenemos que importar la libreria\n",
        "import numpy\n",
        "\n",
        "arreglo = numpy.array([1,2,3,4,5])\n",
        "print(arreglo)"
      ],
      "metadata": {
        "colab": {
          "base_uri": "https://localhost:8080/"
        },
        "id": "aQW_jKwHsYnY",
        "outputId": "76c522dc-b50d-4d64-f7d1-a547f77c5051"
      },
      "execution_count": 1,
      "outputs": [
        {
          "output_type": "stream",
          "name": "stdout",
          "text": [
            "[1 2 3 4 5]\n"
          ]
        }
      ]
    },
    {
      "cell_type": "markdown",
      "source": [
        " numpy cono np. NumPy generalmente se importa bajo el alias np. EN Python los alias son un nombre alternativo para referirse a si misma cosa."
      ],
      "metadata": {
        "id": "kfWVn4YMtnru"
      }
    },
    {
      "cell_type": "code",
      "source": [
        "import numpy as np\n",
        "arreglo = np.array([6,7,8,9,10])\n",
        "print(arreglo)"
      ],
      "metadata": {
        "colab": {
          "base_uri": "https://localhost:8080/"
        },
        "id": "sZwu2rpauDxn",
        "outputId": "c237a9ce-5973-474d-9c59-b27d4e9f1cb4"
      },
      "execution_count": 2,
      "outputs": [
        {
          "output_type": "stream",
          "name": "stdout",
          "text": [
            "[ 6  7  8  9 10]\n"
          ]
        }
      ]
    },
    {
      "cell_type": "markdown",
      "source": [],
      "metadata": {
        "id": "hBaGYMR2tpde"
      }
    },
    {
      "cell_type": "markdown",
      "source": [
        "comprobando la version de numpy la cadena dar la version se almacenan en el atributo version."
      ],
      "metadata": {
        "id": "Ofy0xlwfuVE-"
      }
    },
    {
      "cell_type": "code",
      "source": [
        "import numpy as np\n",
        "print(np.__version__)"
      ],
      "metadata": {
        "colab": {
          "base_uri": "https://localhost:8080/"
        },
        "id": "NQ1fTR2kuiwm",
        "outputId": "10b0a90f-3cbd-4300-bd28-b096686b7267"
      },
      "execution_count": 6,
      "outputs": [
        {
          "output_type": "stream",
          "name": "stdout",
          "text": [
            "2.0.2\n"
          ]
        }
      ]
    },
    {
      "cell_type": "markdown",
      "source": [
        "NumPY creando matrices crear un objeto ndarray de NUmpy. Numpy se utiliza con matrcices :>EL obejetivo selllama ndrray. Podemos crear NUmpy ndarray utilizando la funcion array()"
      ],
      "metadata": {
        "id": "hk-8ZoLsu8r2"
      }
    },
    {
      "cell_type": "code",
      "source": [
        "import numpy as np\n",
        "arreglo = np.array([\"Raul\",\"Ana\",\"Kimberky\",\"Yazmin\"])\n",
        "print(arreglo)\n",
        "print(type(arreglo))"
      ],
      "metadata": {
        "colab": {
          "base_uri": "https://localhost:8080/"
        },
        "id": "vQzVO5XBvY6X",
        "outputId": "e774abf0-350e-4bf4-c19d-98949ceba5dd"
      },
      "execution_count": 7,
      "outputs": [
        {
          "output_type": "stream",
          "name": "stdout",
          "text": [
            "['Raul' 'Ana' 'Kimberky' 'Yazmin']\n",
            "<class 'numpy.ndarray'>\n"
          ]
        }
      ]
    },
    {
      "cell_type": "markdown",
      "source": [
        "dimensiones en matrices.\n",
        "uan dimesion en matices es un nibek de profundidad de matriz (matrices de anidades).\n",
        "Una matrix anidada contienen como elementos.\n",
        "Matrices 0-D son elementos de una matriz. Cada valor es de una matrix =.D .Ejemplo: Crea una matriz con un valor de 42."
      ],
      "metadata": {
        "id": "zde_fUvev-g-"
      }
    },
    {
      "cell_type": "code",
      "source": [
        "import numpy as np\n",
        "\n",
        "arreglo=np.array([1,2,3,4,5])\n",
        "\n",
        "print(arreglo)"
      ],
      "metadata": {
        "colab": {
          "base_uri": "https://localhost:8080/"
        },
        "id": "eQ5g0tM7wtqH",
        "outputId": "33813409-5428-4383-9501-691ab08bf90d"
      },
      "execution_count": 8,
      "outputs": [
        {
          "output_type": "stream",
          "name": "stdout",
          "text": [
            "[1 2 3 4 5]\n"
          ]
        }
      ]
    },
    {
      "cell_type": "markdown",
      "source": [],
      "metadata": {
        "id": "GkMhJpdytVof"
      }
    },
    {
      "cell_type": "markdown",
      "source": [
        "matrices de 2D, una matriz  que tiene matrices 1-D como lementos se denomina matriz 2-D, a menudo se utilixzan parz representan matrices de segubnbdo orden.numpy teien un submodulo completo dedicado a operaciones con matrices con los valores 123 yy 456."
      ],
      "metadata": {
        "id": "iZ2_5qFnxO4O"
      }
    },
    {
      "cell_type": "code",
      "source": [
        "import numpy as np\n",
        "\n",
        "arreglo=np.array([[1,2,3],[4,5,6]])\n",
        "\n",
        "print(arreglo)\n"
      ],
      "metadata": {
        "colab": {
          "base_uri": "https://localhost:8080/"
        },
        "id": "x5RNr9aLyLkf",
        "outputId": "4219d6ae-495a-4e50-add9-4dcc21dd2d06"
      },
      "execution_count": 11,
      "outputs": [
        {
          "output_type": "stream",
          "name": "stdout",
          "text": [
            "[[1 2 3]\n",
            " [4 5 6]]\n"
          ]
        }
      ]
    },
    {
      "cell_type": "markdown",
      "source": [
        "Matrices 3D. una matriz que tiebe matrices se denomina matriz3d esta  matrices se utiliza para representar una matriza de terner oerden"
      ],
      "metadata": {
        "id": "tY1BVLrLyzXe"
      }
    },
    {
      "cell_type": "code",
      "source": [
        "import numpy as np\n",
        "\n",
        "arreglo=np.array([[[1,2,3], [4,6,7]], [[1,2,3], [4,5,6]]])\n",
        "\n",
        "print(arreglo)"
      ],
      "metadata": {
        "colab": {
          "base_uri": "https://localhost:8080/"
        },
        "id": "G_WLaMAAzGJ-",
        "outputId": "2415fa97-291a-4528-8e91-797df2a06722"
      },
      "execution_count": 14,
      "outputs": [
        {
          "output_type": "stream",
          "name": "stdout",
          "text": [
            "[[[1 2 3]\n",
            "  [4 6 7]]\n",
            "\n",
            " [[1 2 3]\n",
            "  [4 5 6]]]\n"
          ]
        }
      ]
    },
    {
      "cell_type": "markdown",
      "source": [],
      "metadata": {
        "id": "rU3_o2sCtM0e"
      }
    },
    {
      "cell_type": "markdown",
      "source": [],
      "metadata": {
        "id": "f6wQhzwPsvDw"
      }
    }
  ]
}