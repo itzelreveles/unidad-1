{
  "nbformat": 4,
  "nbformat_minor": 0,
  "metadata": {
    "colab": {
      "provenance": [],
      "authorship_tag": "ABX9TyMLLgIjs6rGmszCalyGf9nD",
      "include_colab_link": true
    },
    "kernelspec": {
      "name": "python3",
      "display_name": "Python 3"
    },
    "language_info": {
      "name": "python"
    }
  },
  "cells": [
    {
      "cell_type": "markdown",
      "metadata": {
        "id": "view-in-github",
        "colab_type": "text"
      },
      "source": [
        "<a href=\"https://colab.research.google.com/github/itzelreveles/unidad-1/blob/main/ejemplo.ipynb\" target=\"_parent\"><img src=\"https://colab.research.google.com/assets/colab-badge.svg\" alt=\"Open In Colab\"/></a>"
      ]
    },
    {
      "cell_type": "code",
      "execution_count": null,
      "metadata": {
        "id": "Jid5y50jwo26"
      },
      "outputs": [],
      "source": []
    },
    {
      "cell_type": "markdown",
      "source": [
        "Prueba de colab Python"
      ],
      "metadata": {
        "id": "lzeqa5tMxeFh"
      }
    },
    {
      "cell_type": "code",
      "source": [
        "print(\"Hola mundo\")"
      ],
      "metadata": {
        "colab": {
          "base_uri": "https://localhost:8080/"
        },
        "id": "RMP8-yTKxxdw",
        "outputId": "d7f33ffc-b55e-4b9f-97a2-9c8f7eae22f2"
      },
      "execution_count": 1,
      "outputs": [
        {
          "output_type": "stream",
          "name": "stdout",
          "text": [
            "Hola mundo\n"
          ]
        }
      ]
    },
    {
      "cell_type": "markdown",
      "source": [
        "variables"
      ],
      "metadata": {
        "id": "gRIaRSjFyQ8_"
      }
    },
    {
      "cell_type": "code",
      "source": [
        "#variables en python\n",
        "nombre = \"Itzel\"\n",
        "paterno = \"Reveles\"\n",
        "materno = \"Martinez\"\n",
        "edad = 17\n",
        "estatura = 1.60\n",
        "\n",
        "print(nombre, paterno,materno,edad,estatura)"
      ],
      "metadata": {
        "colab": {
          "base_uri": "https://localhost:8080/"
        },
        "id": "qkdR69TwyV0m",
        "outputId": "d19ab5e7-19af-4fd0-c9cf-eb75deeb2bfc"
      },
      "execution_count": 2,
      "outputs": [
        {
          "output_type": "stream",
          "name": "stdout",
          "text": [
            "Itzel Reveles Martinez 17 1.6\n"
          ]
        }
      ]
    },
    {
      "cell_type": "markdown",
      "source": [
        "solicitar 2 numero al usuario y suamarlos"
      ],
      "metadata": {
        "id": "ahjKNkHuzfWv"
      }
    },
    {
      "cell_type": "code",
      "source": [
        "numero1 = int(input(\"ingrese el primero numero\"))\n",
        "numero2 = int(input(\"ingrese el segundo numero\"))\n",
        "suma = numero1 + numero2\n",
        "print(\"suma = \", suma)\n"
      ],
      "metadata": {
        "colab": {
          "base_uri": "https://localhost:8080/"
        },
        "id": "dLLPUDj8zlDn",
        "outputId": "4263cd86-91b0-4e81-c1b7-4bdfce710404"
      },
      "execution_count": 3,
      "outputs": [
        {
          "output_type": "stream",
          "name": "stdout",
          "text": [
            "ingrese el primero numero23\n",
            "ingrese el segundo numero34\n",
            "suma =  57\n"
          ]
        }
      ]
    }
  ]
}