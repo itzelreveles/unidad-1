{
  "nbformat": 4,
  "nbformat_minor": 0,
  "metadata": {
    "colab": {
      "provenance": [],
      "authorship_tag": "ABX9TyN0owxL5wuqucjEhBAgK4Ot",
      "include_colab_link": true
    },
    "kernelspec": {
      "name": "python3",
      "display_name": "Python 3"
    },
    "language_info": {
      "name": "python"
    }
  },
  "cells": [
    {
      "cell_type": "markdown",
      "metadata": {
        "id": "view-in-github",
        "colab_type": "text"
      },
      "source": [
        "<a href=\"https://colab.research.google.com/github/itzelreveles/unidad-1/blob/main/practica5.ipynb\" target=\"_parent\"><img src=\"https://colab.research.google.com/assets/colab-badge.svg\" alt=\"Open In Colab\"/></a>"
      ]
    },
    {
      "cell_type": "code",
      "source": [
        "import numpy as np\n",
        "from scipy import stats\n",
        "\n",
        "valores = np.array([23,45, 56, 12, 67, 34, 55, 21])\n",
        "media = np.mean(valores)\n",
        "mediana = np.median(valores)\n",
        "moda = stats.mode(valores)\n",
        "print(\"La media es:\",media)\n",
        "print(\"La mediana es:\",mediana)\n",
        "print(\"La moda es:\",moda.mode)"
      ],
      "metadata": {
        "colab": {
          "base_uri": "https://localhost:8080/"
        },
        "id": "fU1hnTUx0aKk",
        "outputId": "66e140fb-1b8e-4453-fb1f-56c4fd665a49"
      },
      "execution_count": 14,
      "outputs": [
        {
          "output_type": "stream",
          "name": "stdout",
          "text": [
            "La media es: 39.125\n",
            "La mediana es: 39.5\n",
            "La moda es: 12\n"
          ]
        }
      ]
    },
    {
      "cell_type": "code",
      "source": [
        "import numpy as np\n",
        "from scipy import stats\n",
        "\n",
        "valores = np.array([10,20,30,40,50,20])\n",
        "media = np.mean(valores)\n",
        "mediana = np.median(valores)\n",
        "moda = stats.mode(valores)\n",
        "print(\"La media es:\",media)\n",
        "print(\"La mediana es:\",mediana)\n",
        "print(\"La moda es:\",moda.mode)\n"
      ],
      "metadata": {
        "colab": {
          "base_uri": "https://localhost:8080/"
        },
        "id": "L6w-u6X023md",
        "outputId": "ab75eece-037b-4040-938b-8501ad15dc95"
      },
      "execution_count": 15,
      "outputs": [
        {
          "output_type": "stream",
          "name": "stdout",
          "text": [
            "La media es: 28.333333333333332\n",
            "La mediana es: 25.0\n",
            "La moda es: 20\n"
          ]
        }
      ]
    },
    {
      "cell_type": "code",
      "source": [
        "import numpy as np\n",
        "from scipy import stats\n",
        "\n",
        "valores = np.array([10,20,30,40,50])\n",
        "media = np.mean(valores)\n",
        "mediana = np.median(valores)\n",
        "moda = stats.mode(valores)\n",
        "print(\"La media es:\",media)\n",
        "print(\"La mediana es:\",mediana)\n",
        "print(\"La moda es:\",moda.mode)"
      ],
      "metadata": {
        "colab": {
          "base_uri": "https://localhost:8080/"
        },
        "id": "UnpHR1qO2rkF",
        "outputId": "f8f1bc35-86fa-443f-e076-6c62307d6174"
      },
      "execution_count": 16,
      "outputs": [
        {
          "output_type": "stream",
          "name": "stdout",
          "text": [
            "La media es: 30.0\n",
            "La mediana es: 30.0\n",
            "La moda es: 10\n"
          ]
        }
      ]
    }
  ]
}