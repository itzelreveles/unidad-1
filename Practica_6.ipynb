{
  "nbformat": 4,
  "nbformat_minor": 0,
  "metadata": {
    "colab": {
      "provenance": [],
      "authorship_tag": "ABX9TyO5dPTe4rHIoPi2rngCESSx",
      "include_colab_link": true
    },
    "kernelspec": {
      "name": "python3",
      "display_name": "Python 3"
    },
    "language_info": {
      "name": "python"
    }
  },
  "cells": [
    {
      "cell_type": "markdown",
      "metadata": {
        "id": "view-in-github",
        "colab_type": "text"
      },
      "source": [
        "<a href=\"https://colab.research.google.com/github/itzelreveles/unidad-1/blob/main/Practica_6.ipynb\" target=\"_parent\"><img src=\"https://colab.research.google.com/assets/colab-badge.svg\" alt=\"Open In Colab\"/></a>"
      ]
    },
    {
      "cell_type": "code",
      "execution_count": null,
      "metadata": {
        "id": "-k3miFSUKTHL"
      },
      "outputs": [],
      "source": []
    },
    {
      "cell_type": "markdown",
      "source": [
        "Itzel America Reveles Martinez -24 de septiembre de 2025\n",
        "practica 6- cortar arreglos numpy\n",
        "\n",
        "---------------------------------------------------\n",
        "slice en python  significa tomar elemntos de unindice determinado a corto determinando indice.\n",
        "\n",
        "Pasamos en sline en lugar del inidce de sta mnera :[start:end]\n",
        "si no apasamos el inicio se concidera un 0\n",
        "s in o pasamos el final, su longitud es condicderadaras una matriz de una dimension\n",
        "----\n",
        "ejemplo:([1,2,3,4,5,6,7])\n",
        "cortar los elemntos de indice 1 al idice 5"
      ],
      "metadata": {
        "id": "5KLvV4fyKYbk"
      }
    },
    {
      "cell_type": "code",
      "source": [
        "import numpy as np\n",
        "arreglo = np.array([1,2,3,4,5,6,7])\n",
        "print(arreglo[1:5])"
      ],
      "metadata": {
        "colab": {
          "base_uri": "https://localhost:8080/"
        },
        "id": "LtvFVyuZLjty",
        "outputId": "1a19721d-6373-4fe7-befa-57b94d1bcb35"
      },
      "execution_count": 1,
      "outputs": [
        {
          "output_type": "stream",
          "name": "stdout",
          "text": [
            "[2 3 4 5]\n"
          ]
        }
      ]
    },
    {
      "cell_type": "markdown",
      "source": [
        "ejemplo 2; ([1,2,3,4,5,6,7)] cortar del indice 4 hasta el final de la matriz"
      ],
      "metadata": {
        "id": "2PL8QKJAL2HP"
      }
    },
    {
      "cell_type": "code",
      "source": [
        "import numpy as np\n",
        "arreglo = np.array([1,2,3,4,5,6,7])\n",
        "print(arreglo[4:])"
      ],
      "metadata": {
        "colab": {
          "base_uri": "https://localhost:8080/"
        },
        "id": "D7qiC8L5MCpF",
        "outputId": "73c010be-118d-49fc-b59d-7fc86e4d77e5"
      },
      "execution_count": 2,
      "outputs": [
        {
          "output_type": "stream",
          "name": "stdout",
          "text": [
            "[5 6 7]\n"
          ]
        }
      ]
    },
    {
      "cell_type": "markdown",
      "source": [
        "Ejemplo 3:\n",
        "([1,2,3,4,5,6,7])\n",
        "cortar elemntos desde el indice 5"
      ],
      "metadata": {
        "id": "LJkd-nT2MH7q"
      }
    },
    {
      "cell_type": "code",
      "source": [
        "import numpy as np\n",
        "arreglo = np.array([1,2,3,4,5,6,7])\n",
        "print(arreglo[:5])"
      ],
      "metadata": {
        "colab": {
          "base_uri": "https://localhost:8080/"
        },
        "id": "hoxcnnj4MXkW",
        "outputId": "5c2153c6-83e9-4f4f-d86a-8043dd354c4f"
      },
      "execution_count": 3,
      "outputs": [
        {
          "output_type": "stream",
          "name": "stdout",
          "text": [
            "[1 2 3 4 5]\n"
          ]
        }
      ]
    },
    {
      "cell_type": "markdown",
      "source": [
        "Ejemplo 4:\n",
        "([1,3,4,5,6,7)]\n",
        "corte negativo. Utilizamos el operador \"-\" para hacer referencia a un idice desde el final.\n",
        "\n",
        "-------------------\n",
        "Cortar del indice 3 al final al indice 1 desde el final."
      ],
      "metadata": {
        "id": "ZdvMzC2cM2Vf"
      }
    },
    {
      "cell_type": "code",
      "source": [
        "import numpy as np\n",
        "arreglo = np.array([1,2,3,4,5,6,7])\n",
        "print(arreglo[-3:-1])"
      ],
      "metadata": {
        "colab": {
          "base_uri": "https://localhost:8080/"
        },
        "id": "bpFfKBhzNb-Q",
        "outputId": "565a1a5d-b5b7-4172-f53a-9eee7bea41e0"
      },
      "execution_count": 4,
      "outputs": [
        {
          "output_type": "stream",
          "name": "stdout",
          "text": [
            "[5 6]\n"
          ]
        }
      ]
    }
  ]
}