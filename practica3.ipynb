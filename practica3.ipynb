{
  "nbformat": 4,
  "nbformat_minor": 0,
  "metadata": {
    "colab": {
      "provenance": [],
      "authorship_tag": "ABX9TyOXNGQjWs6wGgPdivnjMZzV",
      "include_colab_link": true
    },
    "kernelspec": {
      "name": "python3",
      "display_name": "Python 3"
    },
    "language_info": {
      "name": "python"
    }
  },
  "cells": [
    {
      "cell_type": "markdown",
      "metadata": {
        "id": "view-in-github",
        "colab_type": "text"
      },
      "source": [
        "<a href=\"https://colab.research.google.com/github/itzelreveles/unidad-1/blob/main/practica3.ipynb\" target=\"_parent\"><img src=\"https://colab.research.google.com/assets/colab-badge.svg\" alt=\"Open In Colab\"/></a>"
      ]
    },
    {
      "cell_type": "code",
      "execution_count": null,
      "metadata": {
        "id": "0zh2mvvlCgHf"
      },
      "outputs": [],
      "source": []
    },
    {
      "cell_type": "markdown",
      "source": [
        "NumPy indexacion de matrices accender a elemntos de una matriz. La indesicion de matrices es la misma que acceder a un elemnto de un matriz. Puede acceder a un elemnto de una matriz haciendo referencia a su numero de indice. Los indices de las matrices NumPY comienzan en 0, lo que significa que el primer elemento tiene el indice 0, el 2do indice 1 y el tercero y indice2 etc.\n",
        "Ejemplo:\n",
        "Obtenga el primer elemnto de la siguiente matriz."
      ],
      "metadata": {
        "id": "XBUkQSC8Clu5"
      }
    },
    {
      "cell_type": "code",
      "source": [
        "import numpy as np\n",
        "arreglo = np.array([1,2,3,4,5])\n",
        "print(arreglo[0])"
      ],
      "metadata": {
        "colab": {
          "base_uri": "https://localhost:8080/"
        },
        "id": "lXhIhbfEDwXK",
        "outputId": "5ab1cbc8-6b82-4dd6-fdf7-a850d8e72a36"
      },
      "execution_count": 7,
      "outputs": [
        {
          "output_type": "stream",
          "name": "stdout",
          "text": [
            "1\n"
          ]
        }
      ]
    },
    {
      "cell_type": "markdown",
      "source": [
        "De la siguiente lista:6,7,8,9,10 y 3er y 4to elemento."
      ],
      "metadata": {
        "id": "RTa5R1LLFaUh"
      }
    },
    {
      "cell_type": "code",
      "source": [
        "import numpy as np\n",
        "arreglo =  np.array([6,7,8,9,10])\n",
        "print(arreglo[3])\n",
        "print(arreglo[2])"
      ],
      "metadata": {
        "colab": {
          "base_uri": "https://localhost:8080/"
        },
        "id": "3nbGzK0GFisR",
        "outputId": "07d75f1f-5ce5-4d28-8fa0-40edd9398d45"
      },
      "execution_count": 8,
      "outputs": [
        {
          "output_type": "stream",
          "name": "stdout",
          "text": [
            "9\n",
            "8\n"
          ]
        }
      ]
    },
    {
      "cell_type": "markdown",
      "source": [
        "Acceder a matrices 2D, para acceder a elemntos para amtrices 2D podemos utilizar nmeros enteros separados por comas que representan al numero de dimensiones y al indice de alemnto. Piense e matrices 2D con una tbla de filas y columnas, donde la dimension representan la fila y el indice la columna.\n",
        "----------------------------------------------\n",
        "Ejemplo:\n",
        "Realiza las matrices \"D con las siguientes listas:\n",
        "!-1,2,3,4,5\n",
        "!-6,7,8,9,10\n",
        "---------------------\n",
        "De la matriz 2D acceder al elementp de la primera fila 2 columna."
      ],
      "metadata": {
        "id": "jEA198KGF82y"
      }
    },
    {
      "cell_type": "code",
      "source": [
        "import numpy as np\n",
        "arreglo = np.array([[1,2,3,4,5],[6,7,8,9,10]])\n",
        "print(arreglo[0,1])"
      ],
      "metadata": {
        "colab": {
          "base_uri": "https://localhost:8080/"
        },
        "id": "A0AhwjdiHEAC",
        "outputId": "15316824-6487-446b-e8dd-a5f44342c4f5"
      },
      "execution_count": 9,
      "outputs": [
        {
          "output_type": "stream",
          "name": "stdout",
          "text": [
            "2\n"
          ]
        }
      ]
    },
    {
      "cell_type": "code",
      "source": [
        "import numpy as np\n",
        "arreglo = np.array([[1,2,3,4,5],[6,7,8,9,10]])\n",
        "print(arreglo[1,4])"
      ],
      "metadata": {
        "colab": {
          "base_uri": "https://localhost:8080/"
        },
        "id": "zqRRyXO1HqlT",
        "outputId": "a18c85a8-ed43-4d5f-ebdb-a30fb1bd4d32"
      },
      "execution_count": 10,
      "outputs": [
        {
          "output_type": "stream",
          "name": "stdout",
          "text": [
            "10\n"
          ]
        }
      ]
    },
    {
      "cell_type": "code",
      "source": [
        "import numpy as np\n",
        "arreglo = np.array([[[1,2,3],[4,5,6,],[7,8,9],[10,11,12]]])\n",
        "print(arreglo[0,1,2])"
      ],
      "metadata": {
        "colab": {
          "base_uri": "https://localhost:8080/"
        },
        "id": "w51ye9_FIbdK",
        "outputId": "7a801443-46bf-46fd-ad21-f0bdac32c3e7"
      },
      "execution_count": 16,
      "outputs": [
        {
          "output_type": "stream",
          "name": "stdout",
          "text": [
            "6\n"
          ]
        }
      ]
    },
    {
      "cell_type": "code",
      "source": [],
      "metadata": {
        "id": "RO2JpBKMGj9h"
      },
      "execution_count": null,
      "outputs": []
    }
  ]
}