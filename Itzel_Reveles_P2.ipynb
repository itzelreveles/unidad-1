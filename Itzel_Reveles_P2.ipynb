{
  "nbformat": 4,
  "nbformat_minor": 0,
  "metadata": {
    "colab": {
      "provenance": [],
      "authorship_tag": "ABX9TyNErfCC1uX2z6dEm3SBVJpS",
      "include_colab_link": true
    },
    "kernelspec": {
      "name": "python3",
      "display_name": "Python 3"
    },
    "language_info": {
      "name": "python"
    }
  },
  "cells": [
    {
      "cell_type": "markdown",
      "metadata": {
        "id": "view-in-github",
        "colab_type": "text"
      },
      "source": [
        "<a href=\"https://colab.research.google.com/github/itzelreveles/unidad-1/blob/main/Itzel_Reveles_P2.ipynb\" target=\"_parent\"><img src=\"https://colab.research.google.com/assets/colab-badge.svg\" alt=\"Open In Colab\"/></a>"
      ]
    },
    {
      "cell_type": "code",
      "execution_count": null,
      "metadata": {
        "id": "SqxBSUFFqxvR"
      },
      "outputs": [],
      "source": []
    },
    {
      "cell_type": "markdown",
      "source": [
        "Practica-2 NumPy\n",
        "Itzel America Reveles Martinez\n",
        "fecha 09 de spetiembre de 2025\n",
        "----------------------------------\n",
        "como verificar el numero de dimensiones\n",
        "NumPy de proporciona el atributo ndim, que devuelve un numero entero que nos dice cuantas dimesiones tiene una matriz.\n",
        "\n",
        "________________________________________________\n",
        "Ejemplo:comprueba de cuantas dimensiones\n",
        "son las siguientes matrices.\n",
        "-----------------------------------------"
      ],
      "metadata": {
        "id": "gd4cd1_orNrv"
      }
    },
    {
      "cell_type": "code",
      "source": [
        "import numpy as np\n",
        "\n",
        "arregloA = np.array(42)\n",
        "arregloB = np.array([1,2,3,4,5])\n",
        "arregloC = np.array([[1,2,3],[4,5,6]])\n",
        "arregloD = np.array([[[1,2,3],[4,5,6]],[[1,2,3],[4,5,6]]])\n",
        "\n",
        "print(arregloA.ndim)\n",
        "print(arregloB.ndim)\n",
        "print(arregloC.ndim)\n",
        "print(arregloD.ndim)"
      ],
      "metadata": {
        "colab": {
          "base_uri": "https://localhost:8080/"
        },
        "id": "HiFIY5SIsg54",
        "outputId": "7a5d202c-60ad-42bd-d97a-5855a59169ae"
      },
      "execution_count": 1,
      "outputs": [
        {
          "output_type": "stream",
          "name": "stdout",
          "text": [
            "0\n",
            "1\n",
            "2\n",
            "3\n"
          ]
        }
      ]
    },
    {
      "cell_type": "markdown",
      "source": [
        "Matrices de dimensiones superiores\n",
        "Una mattrix puede tener cualquier numero de\n",
        "dimesiones. cuando se crea la matriz, puede definir el numero de dimensiones utilizando el argumento ndmin.\n",
        "Ejemplo: Crea una matriz con 5 dimensiones y verifica que tenga 5 dimensiones.\n",
        "---------------------------------------------------------\n",
        "\n"
      ],
      "metadata": {
        "id": "6i7E9Mqeuzwe"
      }
    },
    {
      "cell_type": "code",
      "source": [
        "import numpy as np\n",
        "\n",
        "arreglo = np.array([1,2,3,4,5], ndmin = 5)\n",
        "\n",
        "print(arreglo)\n",
        "\n",
        "print(\"Numero de dimensiones - \" , arreglo.ndim)"
      ],
      "metadata": {
        "colab": {
          "base_uri": "https://localhost:8080/"
        },
        "id": "qy_-aU-swGWm",
        "outputId": "4ae4c656-95a4-499e-94ff-ac89d7a4b1cb"
      },
      "execution_count": 8,
      "outputs": [
        {
          "output_type": "stream",
          "name": "stdout",
          "text": [
            "[[[[[1 2 3 4 5]]]]]\n",
            "Numero de dimensiones -  5\n"
          ]
        }
      ]
    },
    {
      "cell_type": "markdown",
      "source": [
        "Ejercicio\n",
        "Considerando la siguiente matriz\n",
        "\n",
        "arreglo = np.array([[1,2,3], [4,5,6]])\n",
        "\n",
        "Cuantas dimensiones tiene?\n",
        "Respuesta=2"
      ],
      "metadata": {
        "id": "xi7WuPPrycPl"
      }
    },
    {
      "cell_type": "markdown",
      "source": [
        "NumPy INdexacion de matrices\n",
        "Acceder a elementos de una matriz\n",
        "LA indexacion de m atrices es lo mismo que accder a un elemento de una matriz. Puede acceder a un elemento de una mastriz ghaciendo referencia a su numero de indice. Los indices en las matrices de NUmpy comienzan con 0, lo que significa qu el primer elemento tiene el indice 0 y el segundo tiene el indice1, etc.\n",
        "Ejemplo: obtendga el primer elemnrto de las siguiente matriz.\n",
        "-------------------------------------\n"
      ],
      "metadata": {
        "id": "9SYxLST1zPs8"
      }
    },
    {
      "cell_type": "code",
      "source": [
        "import numpy as np\n",
        "\n",
        "arreglo= np.array([1,2,3,4])\n",
        "\n",
        "print(arreglo[0])"
      ],
      "metadata": {
        "colab": {
          "base_uri": "https://localhost:8080/"
        },
        "id": "wRm78Dli0-Vs",
        "outputId": "e27e9c76-b8cf-4137-910b-8c3705a91f03"
      },
      "execution_count": 9,
      "outputs": [
        {
          "output_type": "stream",
          "name": "stdout",
          "text": [
            "1\n"
          ]
        }
      ]
    }
  ]
}