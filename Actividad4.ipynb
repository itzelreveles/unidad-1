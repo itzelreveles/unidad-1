{
  "nbformat": 4,
  "nbformat_minor": 0,
  "metadata": {
    "colab": {
      "provenance": [],
      "authorship_tag": "ABX9TyOODo/5L+GTaklHSgBNOA0x",
      "include_colab_link": true
    },
    "kernelspec": {
      "name": "python3",
      "display_name": "Python 3"
    },
    "language_info": {
      "name": "python"
    }
  },
  "cells": [
    {
      "cell_type": "markdown",
      "metadata": {
        "id": "view-in-github",
        "colab_type": "text"
      },
      "source": [
        "<a href=\"https://colab.research.google.com/github/itzelreveles/unidad-1/blob/main/Actividad4.ipynb\" target=\"_parent\"><img src=\"https://colab.research.google.com/assets/colab-badge.svg\" alt=\"Open In Colab\"/></a>"
      ]
    },
    {
      "cell_type": "code",
      "execution_count": null,
      "metadata": {
        "id": "xd_nqztyeoNy"
      },
      "outputs": [],
      "source": []
    },
    {
      "cell_type": "markdown",
      "source": [
        "1-"
      ],
      "metadata": {
        "id": "hwT2ilixe328"
      }
    },
    {
      "cell_type": "code",
      "source": [
        "import numpy as np\n",
        "arreglo = np.array([[[1,2],[3,4]],[[5,6],[7,8]]])\n",
        "print(arreglo[1,1,0])"
      ],
      "metadata": {
        "colab": {
          "base_uri": "https://localhost:8080/"
        },
        "id": "XaZqSY3he5f0",
        "outputId": "ba53d471-728e-4722-c28b-8d9d3e406a31"
      },
      "execution_count": 1,
      "outputs": [
        {
          "output_type": "stream",
          "name": "stdout",
          "text": [
            "7\n"
          ]
        }
      ]
    },
    {
      "cell_type": "markdown",
      "source": [
        "2-"
      ],
      "metadata": {
        "id": "ms9CWXUFfqjG"
      }
    },
    {
      "cell_type": "code",
      "source": [
        "import numpy as np\n",
        "array = np.array([1,2,3,4,5])\n",
        "print(arreglo[0])\n"
      ],
      "metadata": {
        "colab": {
          "base_uri": "https://localhost:8080/"
        },
        "id": "aOVvqErNfrb1",
        "outputId": "5de2106e-8583-482a-bd33-4d3bc66df84f"
      },
      "execution_count": 6,
      "outputs": [
        {
          "output_type": "stream",
          "name": "stdout",
          "text": [
            "[[1 2]\n",
            " [3 4]]\n"
          ]
        }
      ]
    },
    {
      "cell_type": "markdown",
      "source": [
        "3-"
      ],
      "metadata": {
        "id": "ZBJuwIGiherL"
      }
    },
    {
      "cell_type": "code",
      "source": [
        "import numpy as np\n",
        "arreglo = np.array([10,20,30,40,50])\n",
        "print(arreglo[4])\n"
      ],
      "metadata": {
        "colab": {
          "base_uri": "https://localhost:8080/"
        },
        "id": "oIuq26vLgv9S",
        "outputId": "e7a180c9-f648-4294-f7f7-88ef92357ea3"
      },
      "execution_count": 8,
      "outputs": [
        {
          "output_type": "stream",
          "name": "stdout",
          "text": [
            "50\n"
          ]
        }
      ]
    },
    {
      "cell_type": "markdown",
      "source": [
        "4-"
      ],
      "metadata": {
        "id": "RVDbFsqJhdID"
      }
    },
    {
      "cell_type": "code",
      "source": [
        "import numpy as np\n",
        "arreglo = np.array([[10,20,30,40],[50,60,70,80]])\n",
        "print(arreglo[1,0])"
      ],
      "metadata": {
        "colab": {
          "base_uri": "https://localhost:8080/"
        },
        "id": "nGEtIRNKhVmM",
        "outputId": "129c4cf9-ee8a-46c9-bc61-ca8d4b3d5b9a"
      },
      "execution_count": 9,
      "outputs": [
        {
          "output_type": "stream",
          "name": "stdout",
          "text": [
            "50\n"
          ]
        }
      ]
    },
    {
      "cell_type": "markdown",
      "source": [
        "5-"
      ],
      "metadata": {
        "id": "PFhLfD60h5zH"
      }
    },
    {
      "cell_type": "code",
      "source": [
        "import numpy as np\n",
        "arreglo = np.array([10,20,230,40,50])\n",
        "print(arreglo[-1])"
      ],
      "metadata": {
        "colab": {
          "base_uri": "https://localhost:8080/"
        },
        "id": "-6kZ80Bph7Bn",
        "outputId": "385880dd-8acf-4b19-df6a-ad5b842a7a53"
      },
      "execution_count": 10,
      "outputs": [
        {
          "output_type": "stream",
          "name": "stdout",
          "text": [
            "50\n"
          ]
        }
      ]
    }
  ]
}