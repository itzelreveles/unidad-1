{
  "nbformat": 4,
  "nbformat_minor": 0,
  "metadata": {
    "colab": {
      "provenance": [],
      "authorship_tag": "ABX9TyNA0Bpc4QVU71F33gCSQALd",
      "include_colab_link": true
    },
    "kernelspec": {
      "name": "python3",
      "display_name": "Python 3"
    },
    "language_info": {
      "name": "python"
    }
  },
  "cells": [
    {
      "cell_type": "markdown",
      "metadata": {
        "id": "view-in-github",
        "colab_type": "text"
      },
      "source": [
        "<a href=\"https://colab.research.google.com/github/itzelreveles/unidad-1/blob/main/Practica7.ipynb\" target=\"_parent\"><img src=\"https://colab.research.google.com/assets/colab-badge.svg\" alt=\"Open In Colab\"/></a>"
      ]
    },
    {
      "cell_type": "markdown",
      "source": [
        "Itzel America Reveles Martinez - Practica7 -25 de septiembre 2025.\n",
        "---------------------------------------------\n",
        "Slicing NumPy\n",
        "---------------------------------------------\n",
        "Utilice STEP para determinar el paso del corte:\n",
        "Ejemplo: ([1,2,3,4,5,6,7]) - Devuelve todos los elemntos del indice 1 al indice 5\n"
      ],
      "metadata": {
        "id": "21317qE2GY67"
      }
    },
    {
      "cell_type": "code",
      "source": [
        "import numpy as np\n",
        "arr = np.array([1,2,3,4,5,6,7])\n",
        "print(arr[1:5:2])"
      ],
      "metadata": {
        "colab": {
          "base_uri": "https://localhost:8080/"
        },
        "id": "j9mKv-mYIKMJ",
        "outputId": "0fb15b46-8fab-4bed-f21b-cd471d76ec61"
      },
      "execution_count": 2,
      "outputs": [
        {
          "output_type": "stream",
          "name": "stdout",
          "text": [
            "[2 4]\n"
          ]
        }
      ]
    },
    {
      "cell_type": "markdown",
      "source": [
        "Ejemplo 2: ([1,2,3,4,5,6,7])\n",
        "Devuelve los elemntos de la matriz\n",
        "---------------------------\n"
      ],
      "metadata": {
        "id": "n9qqPLcsIvFC"
      }
    },
    {
      "cell_type": "code",
      "source": [
        "import numpy as np\n",
        "arr = np.array([1,2,3,4,5,6,7])\n",
        "print(arr[::2])"
      ],
      "metadata": {
        "colab": {
          "base_uri": "https://localhost:8080/"
        },
        "id": "_wSdzCVeI9QJ",
        "outputId": "45154c56-d196-4bb1-b98f-a8f03dbbf9d4"
      },
      "execution_count": 3,
      "outputs": [
        {
          "output_type": "stream",
          "name": "stdout",
          "text": [
            "[1 3 5 7]\n"
          ]
        }
      ]
    },
    {
      "cell_type": "markdown",
      "source": [
        "Slice de matrices 2D\n",
        "----------------------\n",
        "Ejemplo:([1,2,3,4,5], [6,7,8,9,10])\n",
        "Del segundo elemento, corte del indice 1 al inidce 4."
      ],
      "metadata": {
        "id": "PxLKtcUJJuqZ"
      }
    },
    {
      "cell_type": "code",
      "source": [
        "import numpy as np\n",
        "arr = np.array([[1,2,3,4,5],[6,7,8,9,10]])\n",
        "print(arr[1,1:4])"
      ],
      "metadata": {
        "colab": {
          "base_uri": "https://localhost:8080/"
        },
        "id": "NoxLmfppKORx",
        "outputId": "4c215730-76ee-4c7a-ea81-79d463820519"
      },
      "execution_count": 6,
      "outputs": [
        {
          "output_type": "stream",
          "name": "stdout",
          "text": [
            "[7 8 9]\n"
          ]
        }
      ]
    },
    {
      "cell_type": "markdown",
      "source": [
        "Ejemplo4: ([[1,2,3,4,5], [6,7,8,9,10]])\n",
        "De ambos elementos, devuelve el indice 2\n",
        "------------------------------------\n"
      ],
      "metadata": {
        "id": "DMz6hpq5NFV4"
      }
    },
    {
      "cell_type": "code",
      "source": [
        "import numpy  as  np\n",
        "arr = np.array([[1,2,3,4,5],[6,7,8,9,10]])\n",
        "print(arr[0:2,2])\n",
        "#"
      ],
      "metadata": {
        "colab": {
          "base_uri": "https://localhost:8080/"
        },
        "id": "-0uPLnL6Netv",
        "outputId": "8bddb411-0987-4167-8099-e2649c1d9086"
      },
      "execution_count": 7,
      "outputs": [
        {
          "output_type": "stream",
          "name": "stdout",
          "text": [
            "[3 8]\n"
          ]
        }
      ]
    },
    {
      "cell_type": "markdown",
      "source": [
        "Ejemplo5: ([[1,2,3,4,5], [6,7,8,9,10]])\n",
        "De ambos elemntos corta el indice 1 al indice 4."
      ],
      "metadata": {
        "id": "78tMGDBYOD7P"
      }
    },
    {
      "cell_type": "code",
      "source": [
        "import numpy as np\n",
        "arr = np.array([[1,2,3,4,5],[6,7,8,9,10]])\n",
        "print(arr[0:2,1:4])\n",
        "#"
      ],
      "metadata": {
        "colab": {
          "base_uri": "https://localhost:8080/"
        },
        "id": "TWleacmgOXOv",
        "outputId": "8c9d7d16-8f1c-4917-80eb-c6c2f81f7ee8"
      },
      "execution_count": 8,
      "outputs": [
        {
          "output_type": "stream",
          "name": "stdout",
          "text": [
            "[[2 3 4]\n",
            " [7 8 9]]\n"
          ]
        }
      ]
    },
    {
      "cell_type": "markdown",
      "source": [
        "Ejercicio1 - Autonomo\n",
        "Del siguiente arreglo, Caul es el resultado?\n",
        "([1,2,3,4,5,6,7])\n",
        "Corta del 1er elemento al 6to elemento con paso 2"
      ],
      "metadata": {
        "id": "ZKY6gfuoPL_G"
      }
    },
    {
      "cell_type": "code",
      "source": [
        "import numpy  as np\n",
        "arr = np.array([1,2,3,4,5,6,7])\n",
        "print(arr[0:6:2])\n",
        "#"
      ],
      "metadata": {
        "colab": {
          "base_uri": "https://localhost:8080/"
        },
        "id": "BZ76q_OsPyre",
        "outputId": "c6f2ae9b-d911-4b68-80d2-85a5fc2d0a99"
      },
      "execution_count": 10,
      "outputs": [
        {
          "output_type": "stream",
          "name": "stdout",
          "text": [
            "[1 3 5]\n"
          ]
        }
      ]
    }
  ]
}