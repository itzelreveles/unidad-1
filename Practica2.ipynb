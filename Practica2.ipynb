{
  "nbformat": 4,
  "nbformat_minor": 0,
  "metadata": {
    "colab": {
      "provenance": [],
      "authorship_tag": "ABX9TyNkBYmoou2bk1n6zJEHysjV",
      "include_colab_link": true
    },
    "kernelspec": {
      "name": "python3",
      "display_name": "Python 3"
    },
    "language_info": {
      "name": "python"
    }
  },
  "cells": [
    {
      "cell_type": "markdown",
      "metadata": {
        "id": "view-in-github",
        "colab_type": "text"
      },
      "source": [
        "<a href=\"https://colab.research.google.com/github/itzelreveles/unidad-1/blob/main/Practica2.ipynb\" target=\"_parent\"><img src=\"https://colab.research.google.com/assets/colab-badge.svg\" alt=\"Open In Colab\"/></a>"
      ]
    },
    {
      "cell_type": "markdown",
      "source": [
        "Itzel America Reveles Martinez - Practica 2 de pandas\n",
        "7 de octubre de 2025\n",
        "----------------------------------\n",
        "DaraFrames de Pandas\n",
        "---------------------------------\n",
        "Un DataFRame es una  estructura de datos bidimensionales, como un matriz o tabla con filas y columnas\n",
        "-----------------------------------\n",
        "Ejemplo: Crea un DataFrame basico:\n",
        "----------------------------------\n"
      ],
      "metadata": {
        "id": "n5XRHHIJ15rd"
      }
    },
    {
      "cell_type": "code",
      "source": [
        "import pandas as pd\n",
        "\n",
        "datos = {\n",
        "    \"calorias\" : [420, 380, 390],\n",
        "    \"duracion\" : [50, 40, 45]\n",
        "}\n",
        "#cargar datos dentro del DATAFRAME\n",
        "\n",
        "df = pd.DataFrame(datos)\n",
        "\n",
        "print(df)\n"
      ],
      "metadata": {
        "colab": {
          "base_uri": "https://localhost:8080/"
        },
        "id": "ETj-IW2x3KVu",
        "outputId": "76a2e1dc-9165-4feb-937d-b5d783a37493"
      },
      "execution_count": 5,
      "outputs": [
        {
          "output_type": "stream",
          "name": "stdout",
          "text": [
            "   calorias  duracion\n",
            "0       420        50\n",
            "1       380        40\n",
            "2       390        45\n"
          ]
        }
      ]
    },
    {
      "cell_type": "markdown",
      "source": [
        "Localizar filas\n",
        "----------------\n",
        "Como puedes ver en el resultado anterior, el DataFrame\n",
        "es como una tabala con filas y clumnas.\n",
        "Pandas usa atrivuto \"loc\" para devolver la filas especificas\n",
        "----------------------------------------------\n",
        "Ejemplo: Devuelve la fila 0\n"
      ],
      "metadata": {
        "id": "waG2qEfZ7DJm"
      }
    },
    {
      "cell_type": "code",
      "source": [
        "import pandas as pd\n",
        "\n",
        "datos = {\n",
        "    \"calorias\" : [420, 380, 390],\n",
        "    \"duracion\" : [50, 40, 45]\n",
        "}\n",
        "#Cargar datos dentro de DATAFRAGME\n",
        "dataframe = pd.DataFrame(datos)\n",
        "print(dataframe.loc[0])"
      ],
      "metadata": {
        "colab": {
          "base_uri": "https://localhost:8080/"
        },
        "id": "e_IbnSqZ79fF",
        "outputId": "f2a17753-c463-4de1-8769-4773492d3a4d"
      },
      "execution_count": 7,
      "outputs": [
        {
          "output_type": "stream",
          "name": "stdout",
          "text": [
            "calorias    420\n",
            "duracion     50\n",
            "Name: 0, dtype: int64\n"
          ]
        }
      ]
    },
    {
      "cell_type": "markdown",
      "source": [
        "Ejemplo: Devuelve las filas 0 y 1"
      ],
      "metadata": {
        "id": "aBpMrkfn9j3d"
      }
    },
    {
      "cell_type": "code",
      "source": [
        "import pandas as pd\n",
        "\n",
        "datos = {\n",
        "    \"calorias\" : [420, 380, 390],\n",
        "    \"duracion\" : [50, 40, 45]\n",
        "}\n",
        "#cargar los datos de DATAFRAME\n",
        "dataframe = pd.DataFrame(datos)\n",
        "print(dataframe.loc[[0,1]])\n"
      ],
      "metadata": {
        "colab": {
          "base_uri": "https://localhost:8080/"
        },
        "id": "H2hwbCEL9wzE",
        "outputId": "c11e5ccd-8d35-4095-85a6-c00e87bcabb2"
      },
      "execution_count": 8,
      "outputs": [
        {
          "output_type": "stream",
          "name": "stdout",
          "text": [
            "   calorias  duracion\n",
            "0       420        50\n",
            "1       380        40\n"
          ]
        }
      ]
    },
    {
      "cell_type": "markdown",
      "source": [
        "Indice nombrados\n",
        "-----------------------------\n",
        "Con el argumento \"index\", puedes nombrar tus propios indices o etiquetas.\n",
        "Ejemplo: Agrega una lista de nombres para darle una eiqueta cada fila."
      ],
      "metadata": {
        "id": "QaxN_iOv-fFM"
      }
    },
    {
      "cell_type": "code",
      "source": [
        "import pandas as pd\n",
        "datos = {\n",
        "    \"calorias\" : [420, 380, 390],\n",
        "    \"duracion\" : [50, 40, 45]\n",
        "}\n",
        "#cargar los datos del DATAFRAME\n",
        "dataframe = pd.DataFrame(datos, index = [\"dia1\", \"dia2\", \"dia3\"])\n",
        "print(dataframe)"
      ],
      "metadata": {
        "colab": {
          "base_uri": "https://localhost:8080/"
        },
        "id": "VuuvGtjj_Es0",
        "outputId": "d5d9103d-3ecb-4aff-f849-81cbde983265"
      },
      "execution_count": 9,
      "outputs": [
        {
          "output_type": "stream",
          "name": "stdout",
          "text": [
            "      calorias  duracion\n",
            "dia1       420        50\n",
            "dia2       380        40\n",
            "dia3       390        45\n"
          ]
        }
      ]
    },
    {
      "cell_type": "markdown",
      "source": [
        "Localizar indice por el nombre o eqtiqueta\n",
        "Utilize el atributo \"loc\" Para devolver la(S) fila(S)\n",
        "especificas\n",
        "---------------------------\n",
        "Ejemplo: Devuelve la fila dia2\n",
        "------------------------------------"
      ],
      "metadata": {
        "id": "M3dUMAU__r2l"
      }
    },
    {
      "cell_type": "code",
      "source": [
        "import pandas as pd\n",
        "datos = {\n",
        "    \"calorias\" : [420, 380, 390],\n",
        "    \"duracion\" : [50, 40, 45]\n",
        "}\n",
        "#cargar los datos\n",
        "dataframe = pd.DataFrame(datos, index = [\"dia1\", \"dia2\", \"dia3\"])\n",
        "print(dataframe.loc[\"dia2\"])"
      ],
      "metadata": {
        "colab": {
          "base_uri": "https://localhost:8080/"
        },
        "id": "t_NhpiplACuE",
        "outputId": "fc892043-aa0a-436e-aa90-8e43158f01c8"
      },
      "execution_count": 10,
      "outputs": [
        {
          "output_type": "stream",
          "name": "stdout",
          "text": [
            "calorias    380\n",
            "duracion     40\n",
            "Name: dia2, dtype: int64\n"
          ]
        }
      ]
    }
  ]
}